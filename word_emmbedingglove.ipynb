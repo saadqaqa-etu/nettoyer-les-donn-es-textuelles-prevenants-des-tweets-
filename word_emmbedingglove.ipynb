{
  "nbformat": 4,
  "nbformat_minor": 0,
  "metadata": {
    "colab": {
      "provenance": [],
      "gpuType": "T4",
      "mount_file_id": "11U2tVdLEYaiFZb36YNftxEgkf7UlSoGB",
      "authorship_tag": "ABX9TyNy2foUAochwQT4sK/2N2Z6",
      "include_colab_link": true
    },
    "kernelspec": {
      "name": "python3",
      "display_name": "Python 3"
    },
    "language_info": {
      "name": "python"
    },
    "accelerator": "GPU"
  },
  "cells": [
    {
      "cell_type": "markdown",
      "metadata": {
        "id": "view-in-github",
        "colab_type": "text"
      },
      "source": [
        "<a href=\"https://colab.research.google.com/github/saadqaqa-etu/nettoyer-les-donn-es-textuelles-prevenants-des-tweets-/blob/main/word_emmbedingglove.ipynb\" target=\"_parent\"><img src=\"https://colab.research.google.com/assets/colab-badge.svg\" alt=\"Open In Colab\"/></a>"
      ]
    },
    {
      "cell_type": "code",
      "execution_count": null,
      "metadata": {
        "id": "K0jA7YfGbLeu"
      },
      "outputs": [],
      "source": [
        "import json\n",
        "import numpy as np\n",
        "\n",
        "# Function to load GloVe embeddings\n",
        "def load_glove_embeddings(file_path):\n",
        "    embeddings = {}\n",
        "    with open(file_path, 'r', encoding='utf-8') as f:\n",
        "        for line in f:\n",
        "            values = line.split()\n",
        "            embeddings[values[0]] = np.array(values[1:], dtype='float32')\n",
        "    return embeddings\n",
        "\n",
        "# Function to map words to embeddings\n",
        "def map_words_to_embeddings(texts, embeddings, embedding_dim):\n",
        "    embedded_texts = []\n",
        "    for text in texts:\n",
        "        embedded_text = [embeddings.get(word, np.zeros(embedding_dim)).tolist() for word in text.split()]\n",
        "        embedded_texts.append(embedded_text)\n",
        "    return embedded_texts\n",
        "\n",
        "# File paths\n",
        "glove_file_path = 'drive/MyDrive/glove.twitter.27B.100d.txt'\n",
        "json_file_path = 'drive/MyDrive/cleaned_twibot20_dataset2.json'\n",
        "output_json_file_path = 'drive/MyDrive/embedded_dataset1.json'\n",
        "\n",
        "# Load GloVe embeddings\n",
        "glove_embeddings = load_glove_embeddings(glove_file_path)\n",
        "\n",
        "# Load and process cleaned tweet dataset\n",
        "with open(json_file_path, 'r', encoding='utf-8') as f:\n",
        "    cleaned_tweets = f.readlines()\n",
        "\n",
        "# Assuming 'cleaned_tweets' is a list of cleaned tweets\n",
        "embedding_dim = 100  # Adjust this based on your GloVe embeddings dimension\n",
        "\n",
        "# Create word embeddings using map_words_to_embeddings function\n",
        "embedded_dataset = map_words_to_embeddings(cleaned_tweets, glove_embeddings, embedding_dim)\n",
        "\n",
        "# Save the embedded dataset to a JSON file\n",
        "with open(output_json_file_path, 'w', encoding='utf-8') as f:\n",
        "    json.dump(embedded_dataset, f)\n",
        "\n",
        "print(\"Embedded dataset saved to\", output_json_file_path)\n",
        "\n"
      ]
    }
  ]
}